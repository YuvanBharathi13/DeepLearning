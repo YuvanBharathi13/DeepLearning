{
  "nbformat": 4,
  "nbformat_minor": 0,
  "metadata": {
    "colab": {
      "provenance": [],
      "toc_visible": true,
      "gpuType": "T4",
      "authorship_tag": "ABX9TyN9jsiAZ9fpBTTgocyYFPPc",
      "include_colab_link": true
    },
    "kernelspec": {
      "name": "python3",
      "display_name": "Python 3"
    },
    "language_info": {
      "name": "python"
    },
    "accelerator": "GPU"
  },
  "cells": [
    {
      "cell_type": "markdown",
      "metadata": {
        "id": "view-in-github",
        "colab_type": "text"
      },
      "source": [
        "<a href=\"https://colab.research.google.com/github/YuvanBharathi13/DeepLearning/blob/main/05_transfer_learning_in_tensorflow_part_2_fine_tuning.ipynb\" target=\"_parent\"><img src=\"https://colab.research.google.com/assets/colab-badge.svg\" alt=\"Open In Colab\"/></a>"
      ]
    },
    {
      "cell_type": "code",
      "execution_count": 2,
      "metadata": {
        "id": "HtSMA9P_7nTM"
      },
      "outputs": [],
      "source": [
        "import pandas as pd\n",
        "import tensorflow as tf\n",
        "import numpy as np\n",
        "import matplotlib.pyplot as plt"
      ]
    },
    {
      "cell_type": "code",
      "source": [
        "import zipfile\n",
        "\n",
        "!wget https://storage.googleapis.com/ztm_tf_course/food_vision/10_food_classes_10_percent.zip\n",
        "\n",
        "zip_ref = zipfile.ZipFile('10_food_classes_10_percent.zip')\n",
        "zip_ref.extractall()\n",
        "zip_ref.close()"
      ],
      "metadata": {
        "colab": {
          "base_uri": "https://localhost:8080/"
        },
        "id": "4VUz4N3y79ML",
        "outputId": "3aa0155b-1922-44aa-83ac-12f433c2ea0b"
      },
      "execution_count": 3,
      "outputs": [
        {
          "output_type": "stream",
          "name": "stdout",
          "text": [
            "--2025-06-15 04:55:57--  https://storage.googleapis.com/ztm_tf_course/food_vision/10_food_classes_10_percent.zip\n",
            "Resolving storage.googleapis.com (storage.googleapis.com)... 74.125.195.207, 172.253.117.207, 142.250.99.207, ...\n",
            "Connecting to storage.googleapis.com (storage.googleapis.com)|74.125.195.207|:443... connected.\n",
            "HTTP request sent, awaiting response... 200 OK\n",
            "Length: 168546183 (161M) [application/zip]\n",
            "Saving to: ‘10_food_classes_10_percent.zip’\n",
            "\n",
            "10_food_classes_10_ 100%[===================>] 160.74M   237MB/s    in 0.7s    \n",
            "\n",
            "2025-06-15 04:55:58 (237 MB/s) - ‘10_food_classes_10_percent.zip’ saved [168546183/168546183]\n",
            "\n"
          ]
        }
      ]
    },
    {
      "cell_type": "markdown",
      "source": [
        "#Pre processing data"
      ],
      "metadata": {
        "id": "uM58FZ3D-owu"
      }
    },
    {
      "cell_type": "code",
      "source": [
        "import os\n",
        "def walk_through_dir(dir_path):\n",
        "  for dirpath, dir_name, files in os.walk(dir_path):\n",
        "    print(f\"There are {len(dir_name)} folders, {len(files)} files in {dirpath}\")"
      ],
      "metadata": {
        "id": "YY6GDk2Q8bxJ"
      },
      "execution_count": 9,
      "outputs": []
    },
    {
      "cell_type": "code",
      "source": [
        "walk_through_dir('10_food_classes_10_percent')"
      ],
      "metadata": {
        "colab": {
          "base_uri": "https://localhost:8080/"
        },
        "id": "5KLHD_eo-B72",
        "outputId": "ecd84ea5-18a9-454a-9fe1-6933a10e10c2"
      },
      "execution_count": 11,
      "outputs": [
        {
          "output_type": "stream",
          "name": "stdout",
          "text": [
            "There are 2 folders, 0 files in 10_food_classes_10_percent\n",
            "There are 10 folders, 0 files in 10_food_classes_10_percent/test\n",
            "There are 0 folders, 250 files in 10_food_classes_10_percent/test/ice_cream\n",
            "There are 0 folders, 250 files in 10_food_classes_10_percent/test/chicken_curry\n",
            "There are 0 folders, 250 files in 10_food_classes_10_percent/test/fried_rice\n",
            "There are 0 folders, 250 files in 10_food_classes_10_percent/test/steak\n",
            "There are 0 folders, 250 files in 10_food_classes_10_percent/test/hamburger\n",
            "There are 0 folders, 250 files in 10_food_classes_10_percent/test/sushi\n",
            "There are 0 folders, 250 files in 10_food_classes_10_percent/test/chicken_wings\n",
            "There are 0 folders, 250 files in 10_food_classes_10_percent/test/ramen\n",
            "There are 0 folders, 250 files in 10_food_classes_10_percent/test/grilled_salmon\n",
            "There are 0 folders, 250 files in 10_food_classes_10_percent/test/pizza\n",
            "There are 10 folders, 0 files in 10_food_classes_10_percent/train\n",
            "There are 0 folders, 75 files in 10_food_classes_10_percent/train/ice_cream\n",
            "There are 0 folders, 75 files in 10_food_classes_10_percent/train/chicken_curry\n",
            "There are 0 folders, 75 files in 10_food_classes_10_percent/train/fried_rice\n",
            "There are 0 folders, 75 files in 10_food_classes_10_percent/train/steak\n",
            "There are 0 folders, 75 files in 10_food_classes_10_percent/train/hamburger\n",
            "There are 0 folders, 75 files in 10_food_classes_10_percent/train/sushi\n",
            "There are 0 folders, 75 files in 10_food_classes_10_percent/train/chicken_wings\n",
            "There are 0 folders, 75 files in 10_food_classes_10_percent/train/ramen\n",
            "There are 0 folders, 75 files in 10_food_classes_10_percent/train/grilled_salmon\n",
            "There are 0 folders, 75 files in 10_food_classes_10_percent/train/pizza\n"
          ]
        }
      ]
    },
    {
      "cell_type": "code",
      "source": [
        "import pathlib\n",
        "def get_class_names(train_path):\n",
        "  data_dir = pathlib.Path(train_path)\n",
        "  class_names = np.array(sorted(item.name for item in data_dir.glob('*')))\n",
        "  return class_names"
      ],
      "metadata": {
        "id": "QxAkow058_Ah"
      },
      "execution_count": 7,
      "outputs": []
    },
    {
      "cell_type": "code",
      "source": [
        "get_class_names('10_food_classes_10_percent/test')"
      ],
      "metadata": {
        "colab": {
          "base_uri": "https://localhost:8080/"
        },
        "id": "228srVt69aem",
        "outputId": "2baab2d8-29df-4ec7-94bb-6bc8dfe7a5c5"
      },
      "execution_count": 8,
      "outputs": [
        {
          "output_type": "execute_result",
          "data": {
            "text/plain": [
              "array(['chicken_curry', 'chicken_wings', 'fried_rice', 'grilled_salmon',\n",
              "       'hamburger', 'ice_cream', 'pizza', 'ramen', 'steak', 'sushi'],\n",
              "      dtype='<U14')"
            ]
          },
          "metadata": {},
          "execution_count": 8
        }
      ]
    },
    {
      "cell_type": "code",
      "source": [
        "train_dir = '10_food_classes_10_percent/train'\n",
        "test_dir = '10_food_classes_10_percent/test'"
      ],
      "metadata": {
        "id": "SOiIWFp896R7"
      },
      "execution_count": 12,
      "outputs": []
    },
    {
      "cell_type": "markdown",
      "source": [
        "- instead of using ImageDataGenerator, this time we will be using tf.keras.preprocessing.image_dataset_from_directory(), which returns a tf.data.Dataset object.\n",
        "- This type of dataset is faster than ImageDataGeberator API and comes with multiple functions."
      ],
      "metadata": {
        "id": "ScFOzctV-tso"
      }
    },
    {
      "cell_type": "code",
      "source": [
        "train_data = tf.keras.preprocessing.image_dataset_from_directory(train_dir,\n",
        "                                                                 image_size=(224,224),\n",
        "                                                                 batch_size=32,\n",
        "                                                                 label_mode='categorical')\n",
        "test_data = tf.keras.preprocessing.image_dataset_from_directory(test_dir,\n",
        "                                                                label_mode='categorical',\n",
        "                                                                image_size=(224,224),\n",
        "                                                                batch_size=32)"
      ],
      "metadata": {
        "colab": {
          "base_uri": "https://localhost:8080/"
        },
        "id": "qjqLU2eh-X2f",
        "outputId": "b5d5ebcf-4c93-4eb1-8d21-a395d186d280"
      },
      "execution_count": 18,
      "outputs": [
        {
          "output_type": "stream",
          "name": "stdout",
          "text": [
            "Found 750 files belonging to 10 classes.\n",
            "Found 2500 files belonging to 10 classes.\n"
          ]
        }
      ]
    },
    {
      "cell_type": "code",
      "source": [
        "train_data.class_names"
      ],
      "metadata": {
        "colab": {
          "base_uri": "https://localhost:8080/"
        },
        "id": "w85HbYZNADGy",
        "outputId": "6aec2ead-c55a-4d9c-ead9-685952f617bf"
      },
      "execution_count": 19,
      "outputs": [
        {
          "output_type": "execute_result",
          "data": {
            "text/plain": [
              "['chicken_curry',\n",
              " 'chicken_wings',\n",
              " 'fried_rice',\n",
              " 'grilled_salmon',\n",
              " 'hamburger',\n",
              " 'ice_cream',\n",
              " 'pizza',\n",
              " 'ramen',\n",
              " 'steak',\n",
              " 'sushi']"
            ]
          },
          "metadata": {},
          "execution_count": 19
        }
      ]
    },
    {
      "cell_type": "markdown",
      "source": [
        "- below we can see that the values of images are not scaled and the labels are all ONE HOT ENCODED.\n",
        "- there is no need to scale the images now as most models have a scale layer within them that does the job.(resnet doesnt have)"
      ],
      "metadata": {
        "id": "l_Byzw5fBOss"
      }
    },
    {
      "cell_type": "code",
      "source": [
        "for images, labels in train_data.take(1):\n",
        "  print(images)\n",
        "  print(labels)"
      ],
      "metadata": {
        "collapsed": true,
        "colab": {
          "base_uri": "https://localhost:8080/"
        },
        "id": "fbLq6dtFA4L2",
        "outputId": "7f048cac-6a2c-4629-e27c-4486509b5f2a"
      },
      "execution_count": 20,
      "outputs": [
        {
          "output_type": "stream",
          "name": "stdout",
          "text": [
            "tf.Tensor(\n",
            "[[[[5.10000000e+01 6.10000000e+01 6.30000000e+01]\n",
            "   [5.10255089e+01 6.10255089e+01 6.30255089e+01]\n",
            "   [4.75663261e+01 5.75663261e+01 5.93520393e+01]\n",
            "   ...\n",
            "   [7.29948196e+01 3.87805557e+01 1.31377621e+01]\n",
            "   [7.13061371e+01 3.72346954e+01 1.08265114e+01]\n",
            "   [7.50153656e+01 3.73010063e+01 7.58665228e+00]]\n",
            "\n",
            "  [[4.58571396e+01 5.58571396e+01 5.78571396e+01]\n",
            "   [4.81428566e+01 5.81428566e+01 6.01428566e+01]\n",
            "   [4.61428566e+01 5.61428566e+01 5.79285698e+01]\n",
            "   ...\n",
            "   [7.27194672e+01 3.89031219e+01 1.10919819e+01]\n",
            "   [8.04438934e+01 4.63724556e+01 1.82958965e+01]\n",
            "   [7.99336777e+01 4.28621483e+01 1.05049706e+01]]\n",
            "\n",
            "  [[4.17857132e+01 5.13571434e+01 5.33571434e+01]\n",
            "   [4.18571396e+01 5.14285698e+01 5.34285698e+01]\n",
            "   [3.79540825e+01 4.75255089e+01 4.87397957e+01]\n",
            "   ...\n",
            "   [6.70713425e+01 3.56428146e+01 6.21428585e+00]\n",
            "   [6.96020737e+01 3.64591904e+01 5.38774776e+00]\n",
            "   [7.32908936e+01 3.65765381e+01 1.79078960e+00]]\n",
            "\n",
            "  ...\n",
            "\n",
            "  [[9.42756348e+01 3.51328201e+01 1.15716248e+01]\n",
            "   [1.49010513e+02 9.11687469e+01 6.44544373e+01]\n",
            "   [1.58347092e+02 9.83011932e+01 6.99185333e+01]\n",
            "   ...\n",
            "   [1.64336411e+02 1.72650852e+01 2.70508213e+01]\n",
            "   [1.64290863e+02 2.36481304e+01 3.25766907e+01]\n",
            "   [1.54157654e+02 1.74434891e+01 2.49485779e+01]]\n",
            "\n",
            "  [[8.81276779e+01 2.75817280e+01 2.02042508e+00]\n",
            "   [1.17601906e+02 5.63926849e+01 2.75151405e+01]\n",
            "   [1.05841675e+02 4.45559120e+01 1.56885872e+01]\n",
            "   ...\n",
            "   [1.63627609e+02 2.20868702e+01 3.10715637e+01]\n",
            "   [1.57504822e+02 2.06426086e+01 3.06426086e+01]\n",
            "   [1.36887527e+02 1.79069400e+00 1.12906332e+01]]\n",
            "\n",
            "  [[1.08479599e+02 4.31224213e+01 1.07907543e+01]\n",
            "   [1.10153038e+02 4.47958603e+01 1.39896746e+01]\n",
            "   [9.79337158e+01 3.07041016e+01 4.20921040e+00]\n",
            "   ...\n",
            "   [1.61025253e+02 2.09640560e+01 2.96732635e+01]\n",
            "   [1.37055939e+02 1.86213565e+00 1.11273727e+01]\n",
            "   [1.30418167e+02 0.00000000e+00 5.41816330e+00]]]\n",
            "\n",
            "\n",
            " [[[5.34183645e+00 5.34183645e+00 0.00000000e+00]\n",
            "   [6.00000000e+00 5.00000000e+00 6.88775301e-01]\n",
            "   [7.95918465e-01 7.95918465e-01 0.00000000e+00]\n",
            "   ...\n",
            "   [0.00000000e+00 0.00000000e+00 0.00000000e+00]\n",
            "   [0.00000000e+00 0.00000000e+00 0.00000000e+00]\n",
            "   [0.00000000e+00 0.00000000e+00 0.00000000e+00]]\n",
            "\n",
            "  [[4.26530600e+00 3.26530600e+00 1.93877459e-01]\n",
            "   [1.42856598e-01 1.14285660e+00 0.00000000e+00]\n",
            "   [2.64285731e+00 1.42857170e+00 2.29591981e-01]\n",
            "   ...\n",
            "   [0.00000000e+00 0.00000000e+00 0.00000000e+00]\n",
            "   [0.00000000e+00 0.00000000e+00 0.00000000e+00]\n",
            "   [0.00000000e+00 0.00000000e+00 0.00000000e+00]]\n",
            "\n",
            "  [[9.06122398e+00 8.84693909e+00 6.41836643e+00]\n",
            "   [9.84692991e-01 4.13264692e-01 5.61222248e-02]\n",
            "   [5.42857170e+00 1.26020432e+00 9.18368399e-02]\n",
            "   ...\n",
            "   [0.00000000e+00 0.00000000e+00 0.00000000e+00]\n",
            "   [0.00000000e+00 0.00000000e+00 0.00000000e+00]\n",
            "   [0.00000000e+00 0.00000000e+00 0.00000000e+00]]\n",
            "\n",
            "  ...\n",
            "\n",
            "  [[9.39285736e+01 8.19285736e+01 8.59285736e+01]\n",
            "   [9.90000000e+01 8.70000000e+01 9.10000000e+01]\n",
            "   [9.76428680e+01 8.58571548e+01 8.99489975e+01]\n",
            "   ...\n",
            "   [1.69000000e+02 1.51045883e+02 1.31642853e+02]\n",
            "   [1.65928558e+02 1.47714264e+02 1.28357147e+02]\n",
            "   [1.63642822e+02 1.45428528e+02 1.26071411e+02]]\n",
            "\n",
            "  [[9.33316193e+01 8.13316193e+01 8.53316193e+01]\n",
            "   [9.80050888e+01 8.60050888e+01 9.00050888e+01]\n",
            "   [9.82295914e+01 8.64438782e+01 9.08724518e+01]\n",
            "   ...\n",
            "   [1.68801041e+02 1.50229568e+02 1.33015305e+02]\n",
            "   [1.65928558e+02 1.46928558e+02 1.29928558e+02]\n",
            "   [1.63974487e+02 1.44974487e+02 1.27974495e+02]]\n",
            "\n",
            "  [[9.38724518e+01 8.18724518e+01 8.58724518e+01]\n",
            "   [9.59285736e+01 8.39285736e+01 8.79285736e+01]\n",
            "   [9.85050964e+01 8.59336700e+01 9.27193832e+01]\n",
            "   ...\n",
            "   [1.68076523e+02 1.49076523e+02 1.33647995e+02]\n",
            "   [1.66596924e+02 1.47596924e+02 1.32596924e+02]\n",
            "   [1.65000000e+02 1.46000000e+02 1.31000000e+02]]]\n",
            "\n",
            "\n",
            " [[[2.42301025e+02 2.28301025e+02 2.15301025e+02]\n",
            "   [2.41877548e+02 2.28877548e+02 2.12877548e+02]\n",
            "   [2.39653061e+02 2.26653061e+02 2.09653061e+02]\n",
            "   ...\n",
            "   [2.43219406e+02 2.53219406e+02 2.43790878e+02]\n",
            "   [2.44000000e+02 2.54000000e+02 2.46000000e+02]\n",
            "   [2.44000000e+02 2.53000000e+02 2.48000000e+02]]\n",
            "\n",
            "  [[2.38357147e+02 2.24357147e+02 2.11357147e+02]\n",
            "   [2.37428574e+02 2.24428574e+02 2.08428574e+02]\n",
            "   [2.37071442e+02 2.24071442e+02 2.06642853e+02]\n",
            "   ...\n",
            "   [2.40372513e+02 2.50372513e+02 2.40943985e+02]\n",
            "   [2.44933670e+02 2.54933670e+02 2.46933670e+02]\n",
            "   [2.44000000e+02 2.53000000e+02 2.48000000e+02]]\n",
            "\n",
            "  [[2.33780609e+02 2.19994904e+02 2.06352036e+02]\n",
            "   [2.32183670e+02 2.19183670e+02 2.03183670e+02]\n",
            "   [2.32091843e+02 2.19091843e+02 2.01663269e+02]\n",
            "   ...\n",
            "   [2.42045959e+02 2.52045959e+02 2.42617432e+02]\n",
            "   [2.45071442e+02 2.55000000e+02 2.47071442e+02]\n",
            "   [2.45000000e+02 2.54000000e+02 2.49000000e+02]]\n",
            "\n",
            "  ...\n",
            "\n",
            "  [[1.76265244e+02 8.42652512e+01 7.69377804e+00]\n",
            "   [1.66219406e+02 7.42193985e+01 2.34683633e-01]\n",
            "   [1.66499985e+02 7.63316269e+01 1.45404339e+00]\n",
            "   ...\n",
            "   [9.79537888e+01 8.46170731e+01 7.84487228e+01]\n",
            "   [9.84132843e+01 8.56836777e+01 7.58724823e+01]\n",
            "   [9.96479721e+01 8.76479721e+01 7.36479721e+01]]\n",
            "\n",
            "  [[1.73025558e+02 8.21174088e+01 2.92859745e+00]\n",
            "   [1.71525467e+02 8.26581421e+01 2.65814066e+00]\n",
            "   [1.63000000e+02 7.65714569e+01 0.00000000e+00]\n",
            "   ...\n",
            "   [1.02459145e+02 8.74438324e+01 8.44897537e+01]\n",
            "   [1.02147804e+02 8.72192459e+01 7.99334793e+01]\n",
            "   [9.91022491e+01 8.51022491e+01 7.21940994e+01]]\n",
            "\n",
            "  [[1.74790787e+02 8.57907867e+01 1.79078877e+00]\n",
            "   [1.70923630e+02 8.47858887e+01 1.83180439e+00]\n",
            "   [1.66566422e+02 8.28369141e+01 1.77056015e+00]\n",
            "   ...\n",
            "   [1.04933922e+02 8.69339218e+01 8.59237442e+01]\n",
            "   [9.95666351e+01 8.46380768e+01 7.73523102e+01]\n",
            "   [9.71330032e+01 8.31330032e+01 7.14186478e+01]]]\n",
            "\n",
            "\n",
            " ...\n",
            "\n",
            "\n",
            " [[[1.26428576e+01 4.64285707e+00 1.64285719e+00]\n",
            "   [1.29744902e+01 4.97448969e+00 1.97448993e+00]\n",
            "   [1.48571434e+01 6.85714293e+00 3.85714293e+00]\n",
            "   ...\n",
            "   [2.54403122e+02 2.47842194e+02 2.41413666e+02]\n",
            "   [2.51811249e+02 2.54668365e+02 2.45525482e+02]\n",
            "   [2.45683319e+02 2.47968964e+02 2.30611786e+02]]\n",
            "\n",
            "  [[1.40000000e+01 7.00000000e+00 1.00000000e+00]\n",
            "   [1.40000000e+01 7.00000000e+00 1.00000000e+00]\n",
            "   [1.42857141e+01 7.28571415e+00 1.28571415e+00]\n",
            "   ...\n",
            "   [2.55000000e+02 2.53637894e+02 2.47796143e+02]\n",
            "   [2.51147980e+02 2.55000000e+02 2.48586685e+02]\n",
            "   [2.42167984e+02 2.42453629e+02 2.26933090e+02]]\n",
            "\n",
            "  [[1.74285717e+01 8.42857170e+00 3.42857170e+00]\n",
            "   [1.55000000e+01 6.50000000e+00 1.50000000e+00]\n",
            "   [1.52142859e+01 6.21428585e+00 1.21428585e+00]\n",
            "   ...\n",
            "   [2.51596878e+02 2.54234772e+02 2.48500168e+02]\n",
            "   [2.49943909e+02 2.55000000e+02 2.49515259e+02]\n",
            "   [2.46663010e+02 2.44076218e+02 2.31234299e+02]]\n",
            "\n",
            "  ...\n",
            "\n",
            "  [[1.67443893e+02 4.88724251e+01 7.21940184e+00]\n",
            "   [1.69280670e+02 5.32092361e+01 6.42352057e+00]\n",
            "   [1.74969254e+02 5.93978310e+01 7.75497341e+00]\n",
            "   ...\n",
            "   [2.50168350e+02 1.41168350e+02 5.81683540e+01]\n",
            "   [2.47872421e+02 1.38872421e+02 5.38724251e+01]\n",
            "   [2.44719345e+02 1.35719345e+02 5.07193527e+01]]\n",
            "\n",
            "  [[1.73382751e+02 5.90052605e+01 5.57659721e+00]\n",
            "   [2.03882706e+02 9.28878403e+01 3.64540672e+01]\n",
            "   [1.64061234e+02 5.55459785e+01 0.00000000e+00]\n",
            "   ...\n",
            "   [2.48071442e+02 1.39071442e+02 5.60714417e+01]\n",
            "   [2.48005096e+02 1.39005096e+02 5.40051041e+01]\n",
            "   [2.46811218e+02 1.37811218e+02 5.28112221e+01]]\n",
            "\n",
            "  [[2.00730042e+02 9.63984756e+01 2.46585007e+01]\n",
            "   [1.90377228e+02 8.82853928e+01 1.52597713e+01]\n",
            "   [2.13363831e+02 1.13869080e+02 4.12261124e+01]\n",
            "   ...\n",
            "   [2.49505081e+02 1.40505081e+02 5.75050888e+01]\n",
            "   [2.48617310e+02 1.39617310e+02 5.46173058e+01]\n",
            "   [2.47285645e+02 1.38285645e+02 5.32856445e+01]]]\n",
            "\n",
            "\n",
            " [[[5.83010216e+01 5.99438782e+01 4.00153046e+01]\n",
            "   [2.17908096e+01 2.44591751e+01 1.17704029e+01]\n",
            "   [9.89285851e+00 1.38112259e+01 4.61734819e+00]\n",
            "   ...\n",
            "   [5.95715370e+01 6.20000648e+01 3.93572731e+01]\n",
            "   [3.94794426e+01 3.64029007e+01 1.94284153e+01]\n",
            "   [3.37143898e+01 2.57143898e+01 1.27143908e+01]]\n",
            "\n",
            "  [[4.21683655e+01 4.50969391e+01 2.83112240e+01]\n",
            "   [4.27040625e+00 6.20407963e+00 1.98979557e-01]\n",
            "   [1.00714293e+01 9.82653141e+00 7.95918882e-01]\n",
            "   ...\n",
            "   [6.11021461e+01 6.07143288e+01 3.90715370e+01]\n",
            "   [3.84335556e+01 3.22855835e+01 1.62906857e+01]\n",
            "   [3.35919724e+01 2.47857838e+01 1.21888781e+01]]\n",
            "\n",
            "  [[1.75969391e+01 2.01581650e+01 6.66326618e+00]\n",
            "   [9.17857361e+00 9.32143021e+00 5.96939325e-01]\n",
            "   [1.31173458e+01 6.37755013e+00 1.90816319e+00]\n",
            "   ...\n",
            "   [6.43112717e+01 6.25714722e+01 4.10970306e+01]\n",
            "   [3.95968666e+01 3.08264198e+01 1.56835766e+01]\n",
            "   [3.88572121e+01 2.72857838e+01 1.52857838e+01]]\n",
            "\n",
            "  ...\n",
            "\n",
            "  [[1.64285719e+00 1.64285719e+00 0.00000000e+00]\n",
            "   [4.00000000e+00 4.00000000e+00 2.00000000e+00]\n",
            "   [2.00000000e+00 2.00000000e+00 0.00000000e+00]\n",
            "   ...\n",
            "   [1.78573608e+00 1.78573608e+00 1.78573608e+00]\n",
            "   [2.00000000e+00 2.00000000e+00 2.00000000e+00]\n",
            "   [2.21429443e+00 2.21429443e+00 2.21429443e+00]]\n",
            "\n",
            "  [[1.64285719e+00 1.64285719e+00 0.00000000e+00]\n",
            "   [4.00000000e+00 4.00000000e+00 2.00000000e+00]\n",
            "   [2.00000000e+00 2.00000000e+00 0.00000000e+00]\n",
            "   ...\n",
            "   [1.78573608e+00 1.78573608e+00 1.78573608e+00]\n",
            "   [2.06633997e+00 2.06633997e+00 2.06633997e+00]\n",
            "   [3.00000000e+00 3.00000000e+00 3.00000000e+00]]\n",
            "\n",
            "  [[1.64285719e+00 1.64285719e+00 0.00000000e+00]\n",
            "   [4.00000000e+00 4.00000000e+00 2.00000000e+00]\n",
            "   [2.00000000e+00 2.00000000e+00 0.00000000e+00]\n",
            "   ...\n",
            "   [1.78573608e+00 1.78573608e+00 1.78573608e+00]\n",
            "   [3.00000000e+00 3.00000000e+00 3.00000000e+00]\n",
            "   [4.00000000e+00 4.00000000e+00 4.00000000e+00]]]\n",
            "\n",
            "\n",
            " [[[1.02923470e+02 4.33367348e+01 5.09693861e+00]\n",
            "   [1.06096939e+02 4.66938782e+01 7.90306139e+00]\n",
            "   [1.11714287e+02 5.24336739e+01 1.32755108e+01]\n",
            "   ...\n",
            "   [1.87642853e+02 1.66642853e+02 1.35642853e+02]\n",
            "   [1.87642853e+02 1.66642853e+02 1.35642853e+02]\n",
            "   [1.87642853e+02 1.66642853e+02 1.35642853e+02]]\n",
            "\n",
            "  [[1.03403061e+02 4.63775520e+01 2.26020432e+00]\n",
            "   [1.07280609e+02 4.82806091e+01 4.56632423e+00]\n",
            "   [1.08938774e+02 5.08673477e+01 5.01020479e+00]\n",
            "   ...\n",
            "   [1.89000000e+02 1.68000000e+02 1.37000000e+02]\n",
            "   [1.89000000e+02 1.68000000e+02 1.37000000e+02]\n",
            "   [1.89000000e+02 1.68000000e+02 1.37000000e+02]]\n",
            "\n",
            "  [[9.67142868e+01 4.11428566e+01 0.00000000e+00]\n",
            "   [1.04943878e+02 4.89285736e+01 2.07142925e+00]\n",
            "   [1.09122452e+02 5.04795914e+01 3.12244892e+00]\n",
            "   ...\n",
            "   [1.89428574e+02 1.68428574e+02 1.37428574e+02]\n",
            "   [1.89428574e+02 1.68428574e+02 1.37428574e+02]\n",
            "   [1.89428574e+02 1.68428574e+02 1.37428574e+02]]\n",
            "\n",
            "  ...\n",
            "\n",
            "  [[1.37852097e+02 1.09852089e+02 6.98520889e+01]\n",
            "   [1.35642899e+02 1.07642899e+02 6.84286346e+01]\n",
            "   [1.32571457e+02 1.04571449e+02 6.71429214e+01]\n",
            "   ...\n",
            "   [1.47622910e+02 1.30648315e+02 9.30052185e+01]\n",
            "   [1.54530762e+02 1.36530762e+02 9.21019974e+01]\n",
            "   [1.57576645e+02 1.37790909e+02 8.94284973e+01]]\n",
            "\n",
            "  [[1.37000000e+02 1.10071442e+02 6.28775291e+01]\n",
            "   [1.36005096e+02 1.09005104e+02 6.57193680e+01]\n",
            "   [1.34071442e+02 1.06071442e+02 6.74132614e+01]\n",
            "   ...\n",
            "   [1.61602142e+02 1.39658218e+02 9.15254898e+01]\n",
            "   [1.64000000e+02 1.40785675e+02 9.05815582e+01]\n",
            "   [1.62045929e+02 1.38857117e+02 8.61886826e+01]]\n",
            "\n",
            "  [[1.39841919e+02 1.14841919e+02 6.01275635e+01]\n",
            "   [1.37785782e+02 1.11785782e+02 6.19795990e+01]\n",
            "   [1.35280640e+02 1.08280640e+02 6.31479340e+01]\n",
            "   ...\n",
            "   [1.63704025e+02 1.36423386e+02 8.94233780e+01]\n",
            "   [1.63596893e+02 1.35596893e+02 8.75050507e+01]\n",
            "   [1.61841934e+02 1.33127579e+02 8.31275787e+01]]]], shape=(32, 224, 224, 3), dtype=float32)\n",
            "tf.Tensor(\n",
            "[[0. 0. 0. 0. 0. 0. 1. 0. 0. 0.]\n",
            " [0. 0. 0. 0. 1. 0. 0. 0. 0. 0.]\n",
            " [1. 0. 0. 0. 0. 0. 0. 0. 0. 0.]\n",
            " [0. 0. 0. 0. 0. 1. 0. 0. 0. 0.]\n",
            " [0. 1. 0. 0. 0. 0. 0. 0. 0. 0.]\n",
            " [0. 0. 0. 0. 0. 0. 1. 0. 0. 0.]\n",
            " [0. 0. 0. 0. 0. 0. 0. 1. 0. 0.]\n",
            " [0. 0. 0. 0. 0. 0. 1. 0. 0. 0.]\n",
            " [1. 0. 0. 0. 0. 0. 0. 0. 0. 0.]\n",
            " [0. 0. 0. 0. 0. 0. 0. 1. 0. 0.]\n",
            " [1. 0. 0. 0. 0. 0. 0. 0. 0. 0.]\n",
            " [1. 0. 0. 0. 0. 0. 0. 0. 0. 0.]\n",
            " [0. 0. 0. 0. 0. 0. 0. 0. 1. 0.]\n",
            " [0. 0. 0. 0. 0. 0. 0. 1. 0. 0.]\n",
            " [0. 0. 0. 0. 1. 0. 0. 0. 0. 0.]\n",
            " [0. 0. 0. 0. 0. 0. 0. 0. 1. 0.]\n",
            " [0. 1. 0. 0. 0. 0. 0. 0. 0. 0.]\n",
            " [0. 0. 1. 0. 0. 0. 0. 0. 0. 0.]\n",
            " [0. 0. 0. 0. 0. 0. 1. 0. 0. 0.]\n",
            " [0. 0. 0. 0. 0. 0. 0. 0. 1. 0.]\n",
            " [0. 0. 0. 0. 0. 0. 0. 0. 0. 1.]\n",
            " [0. 0. 0. 0. 0. 1. 0. 0. 0. 0.]\n",
            " [0. 0. 0. 0. 0. 0. 0. 1. 0. 0.]\n",
            " [0. 0. 0. 0. 0. 0. 0. 0. 0. 1.]\n",
            " [0. 0. 1. 0. 0. 0. 0. 0. 0. 0.]\n",
            " [0. 0. 0. 0. 0. 0. 0. 0. 1. 0.]\n",
            " [0. 0. 0. 0. 0. 0. 0. 0. 0. 1.]\n",
            " [0. 0. 0. 0. 0. 0. 0. 1. 0. 0.]\n",
            " [0. 0. 1. 0. 0. 0. 0. 0. 0. 0.]\n",
            " [0. 0. 0. 0. 0. 0. 0. 0. 1. 0.]\n",
            " [0. 0. 0. 0. 0. 0. 0. 0. 0. 1.]\n",
            " [0. 0. 0. 0. 0. 0. 1. 0. 0. 0.]], shape=(32, 10), dtype=float32)\n"
          ]
        }
      ]
    },
    {
      "cell_type": "markdown",
      "source": [
        "# Creating models"
      ],
      "metadata": {
        "id": "S3U0ZqSQBFdd"
      }
    },
    {
      "cell_type": "markdown",
      "source": [
        "## Model 0"
      ],
      "metadata": {
        "id": "MNwnhDv1CebR"
      }
    },
    {
      "cell_type": "code",
      "source": [
        "# create the base model(trained) from tf.applications\n",
        "base_model = tf.keras.applications.efficientnet_v2.EfficientNetV2B0(include_top=False)\n",
        "\n",
        "# freeze the weights\n",
        "base_model.trainable = False\n",
        "\n",
        "# create the input layer with input shape as (224,224,3)\n",
        "inputs = tf.keras.layers.Input(shape=(224,224,3),name='input_layer')\n",
        "\n",
        "# suppose you are using resnet which does not have a scaling layer we must scale it\n",
        "# x = tf.keras.layers.experimental.preprocessing.Rescaling(1./255)(inputs)\n",
        "\n",
        "# pass the output of the input layer to the base_model\n",
        "x = base_model(inputs)\n",
        "\n",
        "# pass the ouput pf the base_model to the average pooling layer which\n",
        "# aggregates most important information and reduces number of computations\n",
        "x = tf.keras.layers.GlobalAveragePooling2D(name=\"global_average_pooling_layer\")(x)\n",
        "\n",
        "# pass the output of the average layer to the output layer\n",
        "outputs = tf.keras.layers.Dense(10, activation=\"softmax\", name=\"output_layer\")(x)\n",
        "\n",
        "# create the model using the inputs and outputs layers\n",
        "model_0 = tf.keras.Model(inputs,outputs)"
      ],
      "metadata": {
        "colab": {
          "base_uri": "https://localhost:8080/"
        },
        "id": "NKTg1IjpCgA1",
        "outputId": "451f636b-b17f-43f2-c673-ba391701c7f7"
      },
      "execution_count": 21,
      "outputs": [
        {
          "output_type": "stream",
          "name": "stdout",
          "text": [
            "Downloading data from https://storage.googleapis.com/tensorflow/keras-applications/efficientnet_v2/efficientnetv2-b0_notop.h5\n",
            "\u001b[1m24274472/24274472\u001b[0m \u001b[32m━━━━━━━━━━━━━━━━━━━━\u001b[0m\u001b[37m\u001b[0m \u001b[1m0s\u001b[0m 0us/step\n"
          ]
        }
      ]
    },
    {
      "cell_type": "code",
      "source": [
        "model_0.compile(loss='categorical_crossentropy',\n",
        "                optimizer=tf.keras.optimizers.Adam(),\n",
        "                metrics=['accuracy'])"
      ],
      "metadata": {
        "id": "Ea52x3uQFE6U"
      },
      "execution_count": 22,
      "outputs": []
    },
    {
      "cell_type": "code",
      "source": [
        "zero_history = model_0.fit(train_data,\n",
        "                           epochs=5,\n",
        "                           steps_per_epoch=len(train_data),\n",
        "                           validation_data=test_data,\n",
        "                           validation_steps=len(test_data))"
      ],
      "metadata": {
        "colab": {
          "base_uri": "https://localhost:8080/",
          "height": 400
        },
        "id": "xQVMiNOOFGud",
        "outputId": "a4573e52-b0be-4bd0-e18e-47574ca1a483"
      },
      "execution_count": 23,
      "outputs": [
        {
          "output_type": "stream",
          "name": "stdout",
          "text": [
            "Epoch 1/5\n",
            "\u001b[1m24/24\u001b[0m \u001b[32m━━━━━━━━━━━━━━━━━━━━\u001b[0m\u001b[37m\u001b[0m \u001b[1m0s\u001b[0m 2s/step - accuracy: 0.2933 - loss: 2.1020"
          ]
        },
        {
          "output_type": "error",
          "ename": "KeyboardInterrupt",
          "evalue": "",
          "traceback": [
            "\u001b[0;31m---------------------------------------------------------------------------\u001b[0m",
            "\u001b[0;31mKeyboardInterrupt\u001b[0m                         Traceback (most recent call last)",
            "\u001b[0;32m<ipython-input-23-3770764324>\u001b[0m in \u001b[0;36m<cell line: 0>\u001b[0;34m()\u001b[0m\n\u001b[0;32m----> 1\u001b[0;31m zero_history = model_0.fit(train_data,\n\u001b[0m\u001b[1;32m      2\u001b[0m                            \u001b[0mepochs\u001b[0m\u001b[0;34m=\u001b[0m\u001b[0;36m5\u001b[0m\u001b[0;34m,\u001b[0m\u001b[0;34m\u001b[0m\u001b[0;34m\u001b[0m\u001b[0m\n\u001b[1;32m      3\u001b[0m                            \u001b[0msteps_per_epoch\u001b[0m\u001b[0;34m=\u001b[0m\u001b[0mlen\u001b[0m\u001b[0;34m(\u001b[0m\u001b[0mtrain_data\u001b[0m\u001b[0;34m)\u001b[0m\u001b[0;34m,\u001b[0m\u001b[0;34m\u001b[0m\u001b[0;34m\u001b[0m\u001b[0m\n\u001b[1;32m      4\u001b[0m                            \u001b[0mvalidation_data\u001b[0m\u001b[0;34m=\u001b[0m\u001b[0mtest_data\u001b[0m\u001b[0;34m,\u001b[0m\u001b[0;34m\u001b[0m\u001b[0;34m\u001b[0m\u001b[0m\n\u001b[1;32m      5\u001b[0m                            validation_steps=len(test_data))\n",
            "\u001b[0;32m/usr/local/lib/python3.11/dist-packages/keras/src/utils/traceback_utils.py\u001b[0m in \u001b[0;36merror_handler\u001b[0;34m(*args, **kwargs)\u001b[0m\n\u001b[1;32m    115\u001b[0m         \u001b[0mfiltered_tb\u001b[0m \u001b[0;34m=\u001b[0m \u001b[0;32mNone\u001b[0m\u001b[0;34m\u001b[0m\u001b[0;34m\u001b[0m\u001b[0m\n\u001b[1;32m    116\u001b[0m         \u001b[0;32mtry\u001b[0m\u001b[0;34m:\u001b[0m\u001b[0;34m\u001b[0m\u001b[0;34m\u001b[0m\u001b[0m\n\u001b[0;32m--> 117\u001b[0;31m             \u001b[0;32mreturn\u001b[0m \u001b[0mfn\u001b[0m\u001b[0;34m(\u001b[0m\u001b[0;34m*\u001b[0m\u001b[0margs\u001b[0m\u001b[0;34m,\u001b[0m \u001b[0;34m**\u001b[0m\u001b[0mkwargs\u001b[0m\u001b[0;34m)\u001b[0m\u001b[0;34m\u001b[0m\u001b[0;34m\u001b[0m\u001b[0m\n\u001b[0m\u001b[1;32m    118\u001b[0m         \u001b[0;32mexcept\u001b[0m \u001b[0mException\u001b[0m \u001b[0;32mas\u001b[0m \u001b[0me\u001b[0m\u001b[0;34m:\u001b[0m\u001b[0;34m\u001b[0m\u001b[0;34m\u001b[0m\u001b[0m\n\u001b[1;32m    119\u001b[0m             \u001b[0mfiltered_tb\u001b[0m \u001b[0;34m=\u001b[0m \u001b[0m_process_traceback_frames\u001b[0m\u001b[0;34m(\u001b[0m\u001b[0me\u001b[0m\u001b[0;34m.\u001b[0m\u001b[0m__traceback__\u001b[0m\u001b[0;34m)\u001b[0m\u001b[0;34m\u001b[0m\u001b[0;34m\u001b[0m\u001b[0m\n",
            "\u001b[0;32m/usr/local/lib/python3.11/dist-packages/keras/src/backend/tensorflow/trainer.py\u001b[0m in \u001b[0;36mfit\u001b[0;34m(self, x, y, batch_size, epochs, verbose, callbacks, validation_split, validation_data, shuffle, class_weight, sample_weight, initial_epoch, steps_per_epoch, validation_steps, validation_batch_size, validation_freq)\u001b[0m\n\u001b[1;32m    393\u001b[0m                         \u001b[0mshuffle\u001b[0m\u001b[0;34m=\u001b[0m\u001b[0;32mFalse\u001b[0m\u001b[0;34m,\u001b[0m\u001b[0;34m\u001b[0m\u001b[0;34m\u001b[0m\u001b[0m\n\u001b[1;32m    394\u001b[0m                     )\n\u001b[0;32m--> 395\u001b[0;31m                 val_logs = self.evaluate(\n\u001b[0m\u001b[1;32m    396\u001b[0m                     \u001b[0mx\u001b[0m\u001b[0;34m=\u001b[0m\u001b[0mval_x\u001b[0m\u001b[0;34m,\u001b[0m\u001b[0;34m\u001b[0m\u001b[0;34m\u001b[0m\u001b[0m\n\u001b[1;32m    397\u001b[0m                     \u001b[0my\u001b[0m\u001b[0;34m=\u001b[0m\u001b[0mval_y\u001b[0m\u001b[0;34m,\u001b[0m\u001b[0;34m\u001b[0m\u001b[0;34m\u001b[0m\u001b[0m\n",
            "\u001b[0;32m/usr/local/lib/python3.11/dist-packages/keras/src/utils/traceback_utils.py\u001b[0m in \u001b[0;36merror_handler\u001b[0;34m(*args, **kwargs)\u001b[0m\n\u001b[1;32m    115\u001b[0m         \u001b[0mfiltered_tb\u001b[0m \u001b[0;34m=\u001b[0m \u001b[0;32mNone\u001b[0m\u001b[0;34m\u001b[0m\u001b[0;34m\u001b[0m\u001b[0m\n\u001b[1;32m    116\u001b[0m         \u001b[0;32mtry\u001b[0m\u001b[0;34m:\u001b[0m\u001b[0;34m\u001b[0m\u001b[0;34m\u001b[0m\u001b[0m\n\u001b[0;32m--> 117\u001b[0;31m             \u001b[0;32mreturn\u001b[0m \u001b[0mfn\u001b[0m\u001b[0;34m(\u001b[0m\u001b[0;34m*\u001b[0m\u001b[0margs\u001b[0m\u001b[0;34m,\u001b[0m \u001b[0;34m**\u001b[0m\u001b[0mkwargs\u001b[0m\u001b[0;34m)\u001b[0m\u001b[0;34m\u001b[0m\u001b[0;34m\u001b[0m\u001b[0m\n\u001b[0m\u001b[1;32m    118\u001b[0m         \u001b[0;32mexcept\u001b[0m \u001b[0mException\u001b[0m \u001b[0;32mas\u001b[0m \u001b[0me\u001b[0m\u001b[0;34m:\u001b[0m\u001b[0;34m\u001b[0m\u001b[0;34m\u001b[0m\u001b[0m\n\u001b[1;32m    119\u001b[0m             \u001b[0mfiltered_tb\u001b[0m \u001b[0;34m=\u001b[0m \u001b[0m_process_traceback_frames\u001b[0m\u001b[0;34m(\u001b[0m\u001b[0me\u001b[0m\u001b[0;34m.\u001b[0m\u001b[0m__traceback__\u001b[0m\u001b[0;34m)\u001b[0m\u001b[0;34m\u001b[0m\u001b[0;34m\u001b[0m\u001b[0m\n",
            "\u001b[0;31mKeyboardInterrupt\u001b[0m: "
          ]
        }
      ]
    },
    {
      "cell_type": "code",
      "source": [],
      "metadata": {
        "id": "mDpeXflfFsxe"
      },
      "execution_count": null,
      "outputs": []
    }
  ]
}