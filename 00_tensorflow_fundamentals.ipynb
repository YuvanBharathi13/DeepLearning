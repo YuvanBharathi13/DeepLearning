{
  "nbformat": 4,
  "nbformat_minor": 0,
  "metadata": {
    "colab": {
      "provenance": [],
      "toc_visible": true,
      "authorship_tag": "ABX9TyMTEnAYiFusdeJ/rOlK/8si",
      "include_colab_link": true
    },
    "kernelspec": {
      "name": "python3",
      "display_name": "Python 3"
    },
    "language_info": {
      "name": "python"
    }
  },
  "cells": [
    {
      "cell_type": "markdown",
      "metadata": {
        "id": "view-in-github",
        "colab_type": "text"
      },
      "source": [
        "<a href=\"https://colab.research.google.com/github/YuvanBharathi13/DeepLearning/blob/main/00_tensorflow_fundamentals.ipynb\" target=\"_parent\"><img src=\"https://colab.research.google.com/assets/colab-badge.svg\" alt=\"Open In Colab\"/></a>"
      ]
    },
    {
      "cell_type": "markdown",
      "source": [
        "# Introduction to Tensors"
      ],
      "metadata": {
        "id": "impeJdhtQJU8"
      }
    },
    {
      "cell_type": "code",
      "source": [
        "import numpy as np"
      ],
      "metadata": {
        "id": "1K02BJCZR8nF"
      },
      "execution_count": 2,
      "outputs": []
    },
    {
      "cell_type": "code",
      "execution_count": 3,
      "metadata": {
        "colab": {
          "base_uri": "https://localhost:8080/"
        },
        "id": "RvgSKZ5YmnKQ",
        "outputId": "f4adbdaa-efb6-4cb0-8368-5a762102000d"
      },
      "outputs": [
        {
          "output_type": "stream",
          "name": "stdout",
          "text": [
            "2.17.1\n"
          ]
        }
      ],
      "source": [
        "import tensorflow as tf\n",
        "print(tf.__version__)"
      ]
    },
    {
      "cell_type": "markdown",
      "source": [
        "## 1.Tensors with tf.constant()"
      ],
      "metadata": {
        "id": "bRmUZIs5WagA"
      }
    },
    {
      "cell_type": "code",
      "source": [
        "scalar = tf.constant(7)\n",
        "scalar"
      ],
      "metadata": {
        "colab": {
          "base_uri": "https://localhost:8080/"
        },
        "id": "_T6Lkjcgn_qZ",
        "outputId": "02e7f2aa-a81c-4433-df98-f862266046e5"
      },
      "execution_count": 4,
      "outputs": [
        {
          "output_type": "execute_result",
          "data": {
            "text/plain": [
              "<tf.Tensor: shape=(), dtype=int32, numpy=7>"
            ]
          },
          "metadata": {},
          "execution_count": 4
        }
      ]
    },
    {
      "cell_type": "code",
      "source": [
        "scalar.ndim"
      ],
      "metadata": {
        "id": "UO12UN7DosYF",
        "colab": {
          "base_uri": "https://localhost:8080/"
        },
        "outputId": "132fa326-593a-4055-ff91-41b140234d37"
      },
      "execution_count": 5,
      "outputs": [
        {
          "output_type": "execute_result",
          "data": {
            "text/plain": [
              "0"
            ]
          },
          "metadata": {},
          "execution_count": 5
        }
      ]
    },
    {
      "cell_type": "code",
      "source": [
        "vector = tf.constant([1,2,3,4])\n",
        "vector"
      ],
      "metadata": {
        "colab": {
          "base_uri": "https://localhost:8080/"
        },
        "id": "jyv7Q5uGSE1N",
        "outputId": "ccea4371-e884-40e2-88d4-f0378deece6c"
      },
      "execution_count": 6,
      "outputs": [
        {
          "output_type": "execute_result",
          "data": {
            "text/plain": [
              "<tf.Tensor: shape=(4,), dtype=int32, numpy=array([1, 2, 3, 4], dtype=int32)>"
            ]
          },
          "metadata": {},
          "execution_count": 6
        }
      ]
    },
    {
      "cell_type": "code",
      "source": [
        "vector.ndim"
      ],
      "metadata": {
        "colab": {
          "base_uri": "https://localhost:8080/"
        },
        "id": "L2JMRSs4axck",
        "outputId": "be9ce08e-f1a1-47a4-ae5d-d839c112cd65"
      },
      "execution_count": 7,
      "outputs": [
        {
          "output_type": "execute_result",
          "data": {
            "text/plain": [
              "1"
            ]
          },
          "metadata": {},
          "execution_count": 7
        }
      ]
    },
    {
      "cell_type": "code",
      "source": [
        "matrix = tf.constant([[1,2],[3,4]])\n",
        "matrix"
      ],
      "metadata": {
        "colab": {
          "base_uri": "https://localhost:8080/"
        },
        "id": "dAENpRfIa53E",
        "outputId": "54b86577-36e2-449d-861a-b49f7d005d8b"
      },
      "execution_count": 8,
      "outputs": [
        {
          "output_type": "execute_result",
          "data": {
            "text/plain": [
              "<tf.Tensor: shape=(2, 2), dtype=int32, numpy=\n",
              "array([[1, 2],\n",
              "       [3, 4]], dtype=int32)>"
            ]
          },
          "metadata": {},
          "execution_count": 8
        }
      ]
    },
    {
      "cell_type": "code",
      "source": [
        "matrix.ndim"
      ],
      "metadata": {
        "colab": {
          "base_uri": "https://localhost:8080/"
        },
        "id": "XjOMipv0a84v",
        "outputId": "558e1796-5a72-4945-bc57-58a35d420c0e"
      },
      "execution_count": 9,
      "outputs": [
        {
          "output_type": "execute_result",
          "data": {
            "text/plain": [
              "2"
            ]
          },
          "metadata": {},
          "execution_count": 9
        }
      ]
    },
    {
      "cell_type": "code",
      "source": [
        "matrix1 = tf.constant([[1,2],[3,4],[5,6]],dtype=tf.float16)\n",
        "matrix1 # changing the data type of the values"
      ],
      "metadata": {
        "colab": {
          "base_uri": "https://localhost:8080/"
        },
        "id": "1C93AhF8bT9_",
        "outputId": "5bd8c741-44e1-4fb2-805c-f669341540d3"
      },
      "execution_count": 10,
      "outputs": [
        {
          "output_type": "execute_result",
          "data": {
            "text/plain": [
              "<tf.Tensor: shape=(3, 2), dtype=float16, numpy=\n",
              "array([[1., 2.],\n",
              "       [3., 4.],\n",
              "       [5., 6.]], dtype=float16)>"
            ]
          },
          "metadata": {},
          "execution_count": 10
        }
      ]
    },
    {
      "cell_type": "code",
      "source": [
        "matrix1.ndim"
      ],
      "metadata": {
        "colab": {
          "base_uri": "https://localhost:8080/"
        },
        "id": "XBicD3knbaBO",
        "outputId": "cb17facc-5c8b-4dcb-ef95-6d537e443070"
      },
      "execution_count": 11,
      "outputs": [
        {
          "output_type": "execute_result",
          "data": {
            "text/plain": [
              "2"
            ]
          },
          "metadata": {},
          "execution_count": 11
        }
      ]
    },
    {
      "cell_type": "code",
      "source": [
        "matrix_3d = tf.constant([[[1,2,3],[4,5,6]],[[7,8,9],[10,11,12]]])\n",
        "matrix_3d"
      ],
      "metadata": {
        "colab": {
          "base_uri": "https://localhost:8080/"
        },
        "id": "aRqOpkLka-YP",
        "outputId": "f035fddd-f771-4eaf-a7d8-a8751f31e576"
      },
      "execution_count": 12,
      "outputs": [
        {
          "output_type": "execute_result",
          "data": {
            "text/plain": [
              "<tf.Tensor: shape=(2, 2, 3), dtype=int32, numpy=\n",
              "array([[[ 1,  2,  3],\n",
              "        [ 4,  5,  6]],\n",
              "\n",
              "       [[ 7,  8,  9],\n",
              "        [10, 11, 12]]], dtype=int32)>"
            ]
          },
          "metadata": {},
          "execution_count": 12
        }
      ]
    },
    {
      "cell_type": "code",
      "source": [
        "matrix_3d.ndim"
      ],
      "metadata": {
        "colab": {
          "base_uri": "https://localhost:8080/"
        },
        "id": "E1DnZ1R_bDcP",
        "outputId": "7b9fa0f4-a4c4-4184-c5c4-cc4c409e8ea6"
      },
      "execution_count": 13,
      "outputs": [
        {
          "output_type": "execute_result",
          "data": {
            "text/plain": [
              "3"
            ]
          },
          "metadata": {},
          "execution_count": 13
        }
      ]
    },
    {
      "cell_type": "markdown",
      "source": [
        "### Note\n",
        "- Scalars = a single number\n",
        "- Vectors = number with direction\n",
        "- Matrices = 2 demensional arrays or vectors\n",
        "- Tensors = Tensors can be thought of as objects that hold multi-dimensional arrays (similar to NumPy arrays), but with added special functionality and optimizations."
      ],
      "metadata": {
        "id": "-nEJWbG9bgmT"
      }
    },
    {
      "cell_type": "markdown",
      "source": [
        "## 2.Tensors with tf.Variable()\n",
        "- tf.Variable() allows you to create tensors that can be modified. Tensors created from\n",
        "tf.constant() cant be changed, as the name implies."
      ],
      "metadata": {
        "id": "fQCZ35H_cGtc"
      }
    },
    {
      "cell_type": "code",
      "source": [
        "# creating the same tensors as above\n",
        "changeable_tensor = tf.Variable([10,7])\n",
        "unchangeable_tensor = tf.constant([10,7])\n",
        "changeable_tensor, unchangeable_tensor"
      ],
      "metadata": {
        "colab": {
          "base_uri": "https://localhost:8080/"
        },
        "id": "1NMb2gedc5hl",
        "outputId": "3f31ca89-c208-4889-8009-449b9ef72e0c"
      },
      "execution_count": 14,
      "outputs": [
        {
          "output_type": "execute_result",
          "data": {
            "text/plain": [
              "(<tf.Variable 'Variable:0' shape=(2,) dtype=int32, numpy=array([10,  7], dtype=int32)>,\n",
              " <tf.Tensor: shape=(2,), dtype=int32, numpy=array([10,  7], dtype=int32)>)"
            ]
          },
          "metadata": {},
          "execution_count": 14
        }
      ]
    },
    {
      "cell_type": "code",
      "source": [
        "# Changing elements in our changeable tensor\n",
        "changeable_tensor[0] = 7 # this way is not possible, have to be done through a function\n",
        "changeable_tensor"
      ],
      "metadata": {
        "colab": {
          "base_uri": "https://localhost:8080/",
          "height": 180
        },
        "id": "Gk1ZJq24dNk2",
        "outputId": "db892f15-60a8-4255-c515-25c006bfb4af"
      },
      "execution_count": 21,
      "outputs": [
        {
          "output_type": "error",
          "ename": "TypeError",
          "evalue": "'ResourceVariable' object does not support item assignment",
          "traceback": [
            "\u001b[0;31m---------------------------------------------------------------------------\u001b[0m",
            "\u001b[0;31mTypeError\u001b[0m                                 Traceback (most recent call last)",
            "\u001b[0;32m<ipython-input-21-0fe981d217b6>\u001b[0m in \u001b[0;36m<cell line: 2>\u001b[0;34m()\u001b[0m\n\u001b[1;32m      1\u001b[0m \u001b[0;31m# Changing elements in our changeable tensor\u001b[0m\u001b[0;34m\u001b[0m\u001b[0;34m\u001b[0m\u001b[0m\n\u001b[0;32m----> 2\u001b[0;31m \u001b[0mchangeable_tensor\u001b[0m\u001b[0;34m[\u001b[0m\u001b[0;36m0\u001b[0m\u001b[0;34m]\u001b[0m \u001b[0;34m=\u001b[0m \u001b[0;36m7\u001b[0m \u001b[0;31m# this way is not possible, have to be done through a function\u001b[0m\u001b[0;34m\u001b[0m\u001b[0;34m\u001b[0m\u001b[0m\n\u001b[0m\u001b[1;32m      3\u001b[0m \u001b[0mchangeable_tensor\u001b[0m\u001b[0;34m\u001b[0m\u001b[0;34m\u001b[0m\u001b[0m\n",
            "\u001b[0;31mTypeError\u001b[0m: 'ResourceVariable' object does not support item assignment"
          ]
        }
      ]
    },
    {
      "cell_type": "code",
      "source": [
        "# using the assign function\n",
        "changeable_tensor[0].assign(7)\n",
        "changeable_tensor"
      ],
      "metadata": {
        "colab": {
          "base_uri": "https://localhost:8080/"
        },
        "id": "AufoR0gvdzwF",
        "outputId": "b5ef81d0-fc4c-4a6c-87dc-e6e12b7996b1"
      },
      "execution_count": 16,
      "outputs": [
        {
          "output_type": "execute_result",
          "data": {
            "text/plain": [
              "<tf.Variable 'Variable:0' shape=(2,) dtype=int32, numpy=array([7, 7], dtype=int32)>"
            ]
          },
          "metadata": {},
          "execution_count": 16
        }
      ]
    },
    {
      "cell_type": "code",
      "source": [
        "changeable_tensor.assign_add([10,10])\n",
        "changeable_tensor # it adds 2 vectors element wise"
      ],
      "metadata": {
        "colab": {
          "base_uri": "https://localhost:8080/"
        },
        "id": "Tf1xlJ2meqaM",
        "outputId": "14eb33a3-3f78-4367-d5eb-06f3a201d774"
      },
      "execution_count": 17,
      "outputs": [
        {
          "output_type": "execute_result",
          "data": {
            "text/plain": [
              "<tf.Variable 'Variable:0' shape=(2,) dtype=int32, numpy=array([17, 17], dtype=int32)>"
            ]
          },
          "metadata": {},
          "execution_count": 17
        }
      ]
    },
    {
      "cell_type": "markdown",
      "source": [
        "### Note\n",
        "- Rarely in practice will you have to decide whether to use tf.constant() or tf.variable() to create tensors as tensorflow does this for you. But just in case use tf.constant() and change it later on if needed"
      ],
      "metadata": {
        "id": "Rwva9OKpfXrV"
      }
    },
    {
      "cell_type": "markdown",
      "source": [
        "## 3.Creating Random Tensors"
      ],
      "metadata": {
        "id": "laJwzkS8ek0b"
      }
    },
    {
      "cell_type": "code",
      "source": [
        "# creating random tensors is used to initially assign weights to the hidden layer nodes\n",
        "random_1 = tf.random.Generator.from_seed(7)\n",
        "random_1 = tf.random.normal(shape=(3,3)) # using random numbers from normal distribuition\n",
        "random_2 = tf.random.Generator.from_seed(7)\n",
        "random_2 = tf.random.normal(shape=(3,3)) # using random numbers from normal distribuition\n",
        "random_1, random_2, random_1 == random_2"
      ],
      "metadata": {
        "colab": {
          "base_uri": "https://localhost:8080/"
        },
        "id": "PeWvlb6LeAID",
        "outputId": "90701a34-c3a9-4f03-b315-4a7a248726c3"
      },
      "execution_count": 19,
      "outputs": [
        {
          "output_type": "execute_result",
          "data": {
            "text/plain": [
              "(<tf.Tensor: shape=(3, 3), dtype=float32, numpy=\n",
              " array([[ 0.04864772,  2.2338748 , -1.0759466 ],\n",
              "        [ 0.53650004, -0.6711165 , -0.6259301 ],\n",
              "        [-0.21441327, -0.11657184, -0.21126465]], dtype=float32)>,\n",
              " <tf.Tensor: shape=(3, 3), dtype=float32, numpy=\n",
              " array([[-0.36036852, -0.17011803,  0.1956936 ],\n",
              "        [-0.16283302,  2.4860644 , -0.639388  ],\n",
              "        [ 0.13361934, -1.0077102 , -1.2133868 ]], dtype=float32)>,\n",
              " <tf.Tensor: shape=(3, 3), dtype=bool, numpy=\n",
              " array([[False, False, False],\n",
              "        [False, False, False],\n",
              "        [False, False, False]])>)"
            ]
          },
          "metadata": {},
          "execution_count": 19
        }
      ]
    },
    {
      "cell_type": "code",
      "source": [
        "random_1 = tf.random.uniform(shape=(3,3)) # random numbers generated from a uniform distribuition\n",
        "random_2 = tf.random.uniform(shape=(3,3))\n",
        "random_1, random_2"
      ],
      "metadata": {
        "colab": {
          "base_uri": "https://localhost:8080/"
        },
        "id": "7rDIs4jLFHM5",
        "outputId": "dcb6c03a-695d-4c7e-bda1-507a5cedf41e"
      },
      "execution_count": 22,
      "outputs": [
        {
          "output_type": "execute_result",
          "data": {
            "text/plain": [
              "(<tf.Tensor: shape=(3, 3), dtype=float32, numpy=\n",
              " array([[0.5842354 , 0.6814151 , 0.58836424],\n",
              "        [0.12296402, 0.73690224, 0.63534594],\n",
              "        [0.83776283, 0.74906886, 0.15325093]], dtype=float32)>,\n",
              " <tf.Tensor: shape=(3, 3), dtype=float32, numpy=\n",
              " array([[0.4998182 , 0.865371  , 0.7394271 ],\n",
              "        [0.85839844, 0.67766416, 0.52036715],\n",
              "        [0.39272034, 0.46311748, 0.6741817 ]], dtype=float32)>)"
            ]
          },
          "metadata": {},
          "execution_count": 22
        }
      ]
    },
    {
      "cell_type": "markdown",
      "source": [
        "## 4.Shuffling Tensors\n",
        "- Shuffling is used to spread out the inputs being fed into the neural network to avoid biases"
      ],
      "metadata": {
        "id": "8-f4FxSDGDp2"
      }
    },
    {
      "cell_type": "code",
      "source": [
        "not_shuffled = tf.constant([[4,6,3],[9,3,1],[2,7,0]])\n",
        "not_shuffled"
      ],
      "metadata": {
        "colab": {
          "base_uri": "https://localhost:8080/"
        },
        "id": "h6IyOvqkFwSS",
        "outputId": "eb715fff-e817-4dda-c078-70ee34afb8fb"
      },
      "execution_count": 26,
      "outputs": [
        {
          "output_type": "execute_result",
          "data": {
            "text/plain": [
              "<tf.Tensor: shape=(3, 3), dtype=int32, numpy=\n",
              "array([[4, 6, 3],\n",
              "       [9, 3, 1],\n",
              "       [2, 7, 0]], dtype=int32)>"
            ]
          },
          "metadata": {},
          "execution_count": 26
        }
      ]
    },
    {
      "cell_type": "code",
      "source": [
        "shuffled = tf.random.shuffle(not_shuffled,)\n",
        "shuffled # randomly shuffles the values in demension 0, which is the columns. This\n",
        "# means the values in the same column only get shuffled"
      ],
      "metadata": {
        "colab": {
          "base_uri": "https://localhost:8080/"
        },
        "id": "kPc-uhoeHjTT",
        "outputId": "5cdc8877-8516-46a6-adce-303748fd63d2"
      },
      "execution_count": 30,
      "outputs": [
        {
          "output_type": "execute_result",
          "data": {
            "text/plain": [
              "<tf.Tensor: shape=(3, 3), dtype=int32, numpy=\n",
              "array([[4, 6, 3],\n",
              "       [2, 7, 0],\n",
              "       [9, 3, 1]], dtype=int32)>"
            ]
          },
          "metadata": {},
          "execution_count": 30
        }
      ]
    },
    {
      "cell_type": "code",
      "source": [],
      "metadata": {
        "id": "29M_lOMKHpMu"
      },
      "execution_count": 29,
      "outputs": []
    }
  ]
}