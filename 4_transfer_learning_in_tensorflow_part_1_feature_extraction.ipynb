{
  "nbformat": 4,
  "nbformat_minor": 0,
  "metadata": {
    "colab": {
      "provenance": [],
      "authorship_tag": "ABX9TyM/GL5sWOM5qyJlIwMGWwgB",
      "include_colab_link": true
    },
    "kernelspec": {
      "name": "python3",
      "display_name": "Python 3"
    },
    "language_info": {
      "name": "python"
    }
  },
  "cells": [
    {
      "cell_type": "markdown",
      "metadata": {
        "id": "view-in-github",
        "colab_type": "text"
      },
      "source": [
        "<a href=\"https://colab.research.google.com/github/YuvanBharathi13/DeepLearning/blob/main/4_transfer_learning_in_tensorflow_part_1_feature_extraction.ipynb\" target=\"_parent\"><img src=\"https://colab.research.google.com/assets/colab-badge.svg\" alt=\"Open In Colab\"/></a>"
      ]
    },
    {
      "cell_type": "code",
      "execution_count": 1,
      "metadata": {
        "id": "WGbW4_VD75y-"
      },
      "outputs": [],
      "source": [
        "import pandas as pd\n",
        "import tensorflow as tf\n",
        "import numpy as np\n",
        "import matplotlib.pyplot as plt"
      ]
    },
    {
      "cell_type": "markdown",
      "source": [
        "# Knowing the data"
      ],
      "metadata": {
        "id": "NuH2HvXM8Apy"
      }
    },
    {
      "cell_type": "markdown",
      "source": [
        "## unzipping the file"
      ],
      "metadata": {
        "id": "NMpCoJ-q9oDP"
      }
    },
    {
      "cell_type": "code",
      "source": [
        "import zipfile\n",
        "\n",
        "!wget https://storage.googleapis.com/ztm_tf_course/food_vision/10_food_classes_10_percent.zip\n",
        "\n",
        "zip_ref = zipfile.ZipFile('10_food_classes_10_percent.zip')\n",
        "zip_ref.extractall()\n",
        "zip_ref.close()"
      ],
      "metadata": {
        "colab": {
          "base_uri": "https://localhost:8080/"
        },
        "id": "oFYhZnTr8Ke-",
        "outputId": "1c89e0e9-da43-4a08-8cd5-64b52300a0cc"
      },
      "execution_count": 2,
      "outputs": [
        {
          "output_type": "stream",
          "name": "stdout",
          "text": [
            "--2025-06-06 15:52:02--  https://storage.googleapis.com/ztm_tf_course/food_vision/10_food_classes_10_percent.zip\n",
            "Resolving storage.googleapis.com (storage.googleapis.com)... 74.125.132.207, 74.125.201.207, 74.125.202.207, ...\n",
            "Connecting to storage.googleapis.com (storage.googleapis.com)|74.125.132.207|:443... connected.\n",
            "HTTP request sent, awaiting response... 200 OK\n",
            "Length: 168546183 (161M) [application/zip]\n",
            "Saving to: ‘10_food_classes_10_percent.zip’\n",
            "\n",
            "10_food_classes_10_ 100%[===================>] 160.74M   210MB/s    in 0.8s    \n",
            "\n",
            "2025-06-06 15:52:03 (210 MB/s) - ‘10_food_classes_10_percent.zip’ saved [168546183/168546183]\n",
            "\n"
          ]
        }
      ]
    },
    {
      "cell_type": "markdown",
      "source": [
        "## walking through the directory"
      ],
      "metadata": {
        "id": "UeH9ogzW9sCf"
      }
    },
    {
      "cell_type": "code",
      "source": [
        "import os\n",
        "for dirpath, dirnames, filenames in os.walk('10_food_classes_10_percent'):\n",
        "  print(f\"There are {len(dirnames)} folders and {len(filenames)} images in directory {dirpath}\")"
      ],
      "metadata": {
        "colab": {
          "base_uri": "https://localhost:8080/"
        },
        "id": "ffuO79gi8SgK",
        "outputId": "8d04a796-c2d5-4388-bf73-01854007fa45"
      },
      "execution_count": 3,
      "outputs": [
        {
          "output_type": "stream",
          "name": "stdout",
          "text": [
            "There are 2 folders and 0 images in directory 10_food_classes_10_percent\n",
            "There are 10 folders and 0 images in directory 10_food_classes_10_percent/train\n",
            "There are 0 folders and 75 images in directory 10_food_classes_10_percent/train/sushi\n",
            "There are 0 folders and 75 images in directory 10_food_classes_10_percent/train/steak\n",
            "There are 0 folders and 75 images in directory 10_food_classes_10_percent/train/ramen\n",
            "There are 0 folders and 75 images in directory 10_food_classes_10_percent/train/fried_rice\n",
            "There are 0 folders and 75 images in directory 10_food_classes_10_percent/train/chicken_curry\n",
            "There are 0 folders and 75 images in directory 10_food_classes_10_percent/train/hamburger\n",
            "There are 0 folders and 75 images in directory 10_food_classes_10_percent/train/grilled_salmon\n",
            "There are 0 folders and 75 images in directory 10_food_classes_10_percent/train/chicken_wings\n",
            "There are 0 folders and 75 images in directory 10_food_classes_10_percent/train/ice_cream\n",
            "There are 0 folders and 75 images in directory 10_food_classes_10_percent/train/pizza\n",
            "There are 10 folders and 0 images in directory 10_food_classes_10_percent/test\n",
            "There are 0 folders and 250 images in directory 10_food_classes_10_percent/test/sushi\n",
            "There are 0 folders and 250 images in directory 10_food_classes_10_percent/test/steak\n",
            "There are 0 folders and 250 images in directory 10_food_classes_10_percent/test/ramen\n",
            "There are 0 folders and 250 images in directory 10_food_classes_10_percent/test/fried_rice\n",
            "There are 0 folders and 250 images in directory 10_food_classes_10_percent/test/chicken_curry\n",
            "There are 0 folders and 250 images in directory 10_food_classes_10_percent/test/hamburger\n",
            "There are 0 folders and 250 images in directory 10_food_classes_10_percent/test/grilled_salmon\n",
            "There are 0 folders and 250 images in directory 10_food_classes_10_percent/test/chicken_wings\n",
            "There are 0 folders and 250 images in directory 10_food_classes_10_percent/test/ice_cream\n",
            "There are 0 folders and 250 images in directory 10_food_classes_10_percent/test/pizza\n"
          ]
        }
      ]
    },
    {
      "cell_type": "markdown",
      "source": [
        "## class names"
      ],
      "metadata": {
        "id": "Pvts0y9H9wni"
      }
    },
    {
      "cell_type": "code",
      "source": [
        "import pathlib\n",
        "data_dir = pathlib.Path('10_food_classes_10_percent/train')\n",
        "class_names = np.array(sorted(item.name for item in data_dir.glob('*')))\n",
        "class_names"
      ],
      "metadata": {
        "colab": {
          "base_uri": "https://localhost:8080/"
        },
        "id": "TA-BW0Tj88Yx",
        "outputId": "db6e7ad1-ac29-4f18-f9b3-3e5c04dba97a"
      },
      "execution_count": 4,
      "outputs": [
        {
          "output_type": "execute_result",
          "data": {
            "text/plain": [
              "array(['chicken_curry', 'chicken_wings', 'fried_rice', 'grilled_salmon',\n",
              "       'hamburger', 'ice_cream', 'pizza', 'ramen', 'steak', 'sushi'],\n",
              "      dtype='<U14')"
            ]
          },
          "metadata": {},
          "execution_count": 4
        }
      ]
    },
    {
      "cell_type": "markdown",
      "source": [
        "# Pre-processing data"
      ],
      "metadata": {
        "id": "fA3RQOhg9lnm"
      }
    },
    {
      "cell_type": "code",
      "source": [
        "train_dir = '10_food_classes_10_percent/train'\n",
        "test_dir = '10_food_classes_10_percent/test'"
      ],
      "metadata": {
        "id": "M6KxPTSn_Sgp"
      },
      "execution_count": 8,
      "outputs": []
    },
    {
      "cell_type": "code",
      "source": [
        "from tensorflow.keras.preprocessing.image import ImageDataGenerator\n",
        "train_datagen = ImageDataGenerator(rescale=1/255.)\n",
        "test_datagen = ImageDataGenerator(rescale=1/255.)\n",
        "\n",
        "train_data = train_datagen.flow_from_directory(train_dir,\n",
        "                                               target_size=(224,224),\n",
        "                                               batch_size=32,\n",
        "                                               class_mode='categorical')\n",
        "\n",
        "test_data = test_datagen.flow_from_directory(test_dir,\n",
        "                                             target_size=(224,224),\n",
        "                                             batch_size=32,\n",
        "                                             class_mode='categorical')"
      ],
      "metadata": {
        "colab": {
          "base_uri": "https://localhost:8080/"
        },
        "id": "kCsktJAe_B77",
        "outputId": "a437827d-23a6-4c16-f7be-2428c343b1a9"
      },
      "execution_count": 9,
      "outputs": [
        {
          "output_type": "stream",
          "name": "stdout",
          "text": [
            "Found 750 images belonging to 10 classes.\n",
            "Found 2500 images belonging to 10 classes.\n"
          ]
        }
      ]
    },
    {
      "cell_type": "code",
      "source": [],
      "metadata": {
        "id": "8s8lTce7_nQm"
      },
      "execution_count": null,
      "outputs": []
    }
  ]
}