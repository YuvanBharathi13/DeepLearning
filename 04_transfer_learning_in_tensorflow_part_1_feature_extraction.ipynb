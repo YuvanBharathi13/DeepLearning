{
  "nbformat": 4,
  "nbformat_minor": 0,
  "metadata": {
    "colab": {
      "provenance": [],
      "toc_visible": true,
      "authorship_tag": "ABX9TyM0PNDzlrCidShhUpPc8KBQ",
      "include_colab_link": true
    },
    "kernelspec": {
      "name": "python3",
      "display_name": "Python 3"
    },
    "language_info": {
      "name": "python"
    }
  },
  "cells": [
    {
      "cell_type": "markdown",
      "metadata": {
        "id": "view-in-github",
        "colab_type": "text"
      },
      "source": [
        "<a href=\"https://colab.research.google.com/github/YuvanBharathi13/DeepLearning/blob/main/04_transfer_learning_in_tensorflow_part_1_feature_extraction.ipynb\" target=\"_parent\"><img src=\"https://colab.research.google.com/assets/colab-badge.svg\" alt=\"Open In Colab\"/></a>"
      ]
    },
    {
      "cell_type": "code",
      "execution_count": null,
      "metadata": {
        "id": "WGbW4_VD75y-"
      },
      "outputs": [],
      "source": [
        "import pandas as pd\n",
        "import tensorflow as tf\n",
        "import numpy as np\n",
        "import matplotlib.pyplot as plt"
      ]
    },
    {
      "cell_type": "markdown",
      "source": [
        "# Knowing the data"
      ],
      "metadata": {
        "id": "NuH2HvXM8Apy"
      }
    },
    {
      "cell_type": "markdown",
      "source": [
        "## unzipping the file"
      ],
      "metadata": {
        "id": "NMpCoJ-q9oDP"
      }
    },
    {
      "cell_type": "code",
      "source": [
        "import zipfile\n",
        "\n",
        "!wget https://storage.googleapis.com/ztm_tf_course/food_vision/10_food_classes_10_percent.zip\n",
        "\n",
        "zip_ref = zipfile.ZipFile('10_food_classes_10_percent.zip')\n",
        "zip_ref.extractall()\n",
        "zip_ref.close()"
      ],
      "metadata": {
        "colab": {
          "base_uri": "https://localhost:8080/"
        },
        "id": "oFYhZnTr8Ke-",
        "outputId": "1c89e0e9-da43-4a08-8cd5-64b52300a0cc"
      },
      "execution_count": null,
      "outputs": [
        {
          "output_type": "stream",
          "name": "stdout",
          "text": [
            "--2025-06-06 15:52:02--  https://storage.googleapis.com/ztm_tf_course/food_vision/10_food_classes_10_percent.zip\n",
            "Resolving storage.googleapis.com (storage.googleapis.com)... 74.125.132.207, 74.125.201.207, 74.125.202.207, ...\n",
            "Connecting to storage.googleapis.com (storage.googleapis.com)|74.125.132.207|:443... connected.\n",
            "HTTP request sent, awaiting response... 200 OK\n",
            "Length: 168546183 (161M) [application/zip]\n",
            "Saving to: ‘10_food_classes_10_percent.zip’\n",
            "\n",
            "10_food_classes_10_ 100%[===================>] 160.74M   210MB/s    in 0.8s    \n",
            "\n",
            "2025-06-06 15:52:03 (210 MB/s) - ‘10_food_classes_10_percent.zip’ saved [168546183/168546183]\n",
            "\n"
          ]
        }
      ]
    },
    {
      "cell_type": "markdown",
      "source": [
        "## walking through the directory"
      ],
      "metadata": {
        "id": "UeH9ogzW9sCf"
      }
    },
    {
      "cell_type": "code",
      "source": [
        "import os\n",
        "for dirpath, dirnames, filenames in os.walk('10_food_classes_10_percent'):\n",
        "  print(f\"There are {len(dirnames)} folders and {len(filenames)} images in directory {dirpath}\")"
      ],
      "metadata": {
        "colab": {
          "base_uri": "https://localhost:8080/"
        },
        "id": "ffuO79gi8SgK",
        "outputId": "8d04a796-c2d5-4388-bf73-01854007fa45"
      },
      "execution_count": null,
      "outputs": [
        {
          "output_type": "stream",
          "name": "stdout",
          "text": [
            "There are 2 folders and 0 images in directory 10_food_classes_10_percent\n",
            "There are 10 folders and 0 images in directory 10_food_classes_10_percent/train\n",
            "There are 0 folders and 75 images in directory 10_food_classes_10_percent/train/sushi\n",
            "There are 0 folders and 75 images in directory 10_food_classes_10_percent/train/steak\n",
            "There are 0 folders and 75 images in directory 10_food_classes_10_percent/train/ramen\n",
            "There are 0 folders and 75 images in directory 10_food_classes_10_percent/train/fried_rice\n",
            "There are 0 folders and 75 images in directory 10_food_classes_10_percent/train/chicken_curry\n",
            "There are 0 folders and 75 images in directory 10_food_classes_10_percent/train/hamburger\n",
            "There are 0 folders and 75 images in directory 10_food_classes_10_percent/train/grilled_salmon\n",
            "There are 0 folders and 75 images in directory 10_food_classes_10_percent/train/chicken_wings\n",
            "There are 0 folders and 75 images in directory 10_food_classes_10_percent/train/ice_cream\n",
            "There are 0 folders and 75 images in directory 10_food_classes_10_percent/train/pizza\n",
            "There are 10 folders and 0 images in directory 10_food_classes_10_percent/test\n",
            "There are 0 folders and 250 images in directory 10_food_classes_10_percent/test/sushi\n",
            "There are 0 folders and 250 images in directory 10_food_classes_10_percent/test/steak\n",
            "There are 0 folders and 250 images in directory 10_food_classes_10_percent/test/ramen\n",
            "There are 0 folders and 250 images in directory 10_food_classes_10_percent/test/fried_rice\n",
            "There are 0 folders and 250 images in directory 10_food_classes_10_percent/test/chicken_curry\n",
            "There are 0 folders and 250 images in directory 10_food_classes_10_percent/test/hamburger\n",
            "There are 0 folders and 250 images in directory 10_food_classes_10_percent/test/grilled_salmon\n",
            "There are 0 folders and 250 images in directory 10_food_classes_10_percent/test/chicken_wings\n",
            "There are 0 folders and 250 images in directory 10_food_classes_10_percent/test/ice_cream\n",
            "There are 0 folders and 250 images in directory 10_food_classes_10_percent/test/pizza\n"
          ]
        }
      ]
    },
    {
      "cell_type": "markdown",
      "source": [
        "## class names"
      ],
      "metadata": {
        "id": "Pvts0y9H9wni"
      }
    },
    {
      "cell_type": "code",
      "source": [
        "import pathlib\n",
        "data_dir = pathlib.Path('10_food_classes_10_percent/train')\n",
        "class_names = np.array(sorted(item.name for item in data_dir.glob('*')))\n",
        "class_names"
      ],
      "metadata": {
        "colab": {
          "base_uri": "https://localhost:8080/"
        },
        "id": "TA-BW0Tj88Yx",
        "outputId": "db6e7ad1-ac29-4f18-f9b3-3e5c04dba97a"
      },
      "execution_count": null,
      "outputs": [
        {
          "output_type": "execute_result",
          "data": {
            "text/plain": [
              "array(['chicken_curry', 'chicken_wings', 'fried_rice', 'grilled_salmon',\n",
              "       'hamburger', 'ice_cream', 'pizza', 'ramen', 'steak', 'sushi'],\n",
              "      dtype='<U14')"
            ]
          },
          "metadata": {},
          "execution_count": 4
        }
      ]
    },
    {
      "cell_type": "markdown",
      "source": [
        "# Pre-processing data"
      ],
      "metadata": {
        "id": "fA3RQOhg9lnm"
      }
    },
    {
      "cell_type": "code",
      "source": [
        "train_dir = '10_food_classes_10_percent/train'\n",
        "test_dir = '10_food_classes_10_percent/test'"
      ],
      "metadata": {
        "id": "M6KxPTSn_Sgp"
      },
      "execution_count": null,
      "outputs": []
    },
    {
      "cell_type": "code",
      "source": [
        "from tensorflow.keras.preprocessing.image import ImageDataGenerator\n",
        "train_datagen = ImageDataGenerator(rescale=1/255.)\n",
        "test_datagen = ImageDataGenerator(rescale=1/255.)\n",
        "\n",
        "train_data = train_datagen.flow_from_directory(train_dir,\n",
        "                                               target_size=(224,224),\n",
        "                                               batch_size=32,\n",
        "                                               class_mode='categorical')\n",
        "\n",
        "test_data = test_datagen.flow_from_directory(test_dir,\n",
        "                                             target_size=(224,224),\n",
        "                                             batch_size=32,\n",
        "                                             class_mode='categorical')"
      ],
      "metadata": {
        "colab": {
          "base_uri": "https://localhost:8080/"
        },
        "id": "kCsktJAe_B77",
        "outputId": "54098827-c42e-4708-e9ca-16a1dd9e1ba2"
      },
      "execution_count": null,
      "outputs": [
        {
          "output_type": "stream",
          "name": "stdout",
          "text": [
            "Found 750 images belonging to 10 classes.\n",
            "Found 2500 images belonging to 10 classes.\n"
          ]
        }
      ]
    },
    {
      "cell_type": "markdown",
      "source": [
        "# callbacks"
      ],
      "metadata": {
        "id": "8s8lTce7_nQm"
      }
    },
    {
      "cell_type": "markdown",
      "source": [
        "1. Experiment tracking with TensorBoard - log the performance of multiple models and then view and compare these models in a visual way on TensorBoard (a dashboard for inspecting neural network parameters). Helpful to compare the results of different models on your data.\n",
        "2. Model checkpointing - save your model as it trains so you can stop training if needed and come back to continue off where you left. Helpful if training takes a long time and can't be done in one sitting.\n",
        "3. Early stopping - leave your model training for an arbitrary amount of time and have it stop training automatically when it ceases to improve. Helpful when you've got a large dataset and don't know how long training will take."
      ],
      "metadata": {
        "id": "UGACp7YVDXtn"
      }
    },
    {
      "cell_type": "code",
      "source": [
        "import datetime\n",
        "\n",
        "def create_tensorboard_callback(dir_name,experiment_name):\n",
        "  log_dir = dir_name+'/'+experiment_name+'/'+datetime.datetime.now().strftime('%Y%m%d-%H%M%S')\n",
        "  tensorboard_callback = tf.keras.callbacks.TensorBoard(log_dir=log_dir)\n",
        "  print(f\"Saving tensorboard log file to {log_dir}\")\n",
        "  return tensorboard_callback"
      ],
      "metadata": {
        "id": "MTOPmOyUDc32"
      },
      "execution_count": null,
      "outputs": []
    },
    {
      "cell_type": "markdown",
      "source": [
        "# Creating models using TensorFlow hub"
      ],
      "metadata": {
        "id": "-qwuRmAxGMyy"
      }
    },
    {
      "cell_type": "markdown",
      "source": [
        "TensorFlow Hub is a repository of trained machine learning models ready for fine-tuning and deployable anywhere."
      ],
      "metadata": {
        "id": "uxSmLHQWGw6W"
      }
    },
    {
      "cell_type": "markdown",
      "source": [
        "## comparing resnet and efficient net"
      ],
      "metadata": {
        "id": "3PJxd37AGoCc"
      }
    },
    {
      "cell_type": "code",
      "source": [
        "# make sure the links are not from kaggle as they wont be compatible with tensorflow_hub functions\n",
        "resnet_url = \"https://tfhub.dev/google/imagenet/resnet_v2_50/feature-vector/4\"\n",
        "efficient_net_url = \"https://tfhub.dev/tensorflow/efficientnet/b0/feature-vector/1\""
      ],
      "metadata": {
        "id": "evfC3J--QmfY"
      },
      "execution_count": null,
      "outputs": []
    },
    {
      "cell_type": "code",
      "source": [
        "import tensorflow_hub as hub"
      ],
      "metadata": {
        "id": "vnEbonG2Q6tO"
      },
      "execution_count": null,
      "outputs": []
    },
    {
      "cell_type": "code",
      "source": [
        "# a function that creates a model from the model url provided\n",
        "def create_model(model_url,num_classes=10):\n",
        "  feature_extractor_layer = hub.KerasLayer(model_url,\n",
        "                                           trainable=False, # freeze the underlying patterns\n",
        "                                           name='feature_extraction_layer',\n",
        "                                           input_shape=(224,224,3)) # define the input image shape\n",
        "\n",
        "  # Create our own model\n",
        "  model = tf.keras.Sequential([\n",
        "    feature_extractor_layer, # use the feature extraction layer as the base\n",
        "    tf.keras.layers.Dense(num_classes, activation='softmax', name='output_layer') # create our own output layer\n",
        "  ])\n",
        "\n",
        "  return model\n",
        "\n",
        "  # model = tf.keras.models.Sequential([\n",
        "  #     hub.KerasLayer(model_url,trainable=False,input_shape=(224,224,3)), # this section will not be trainable\n",
        "  #     tf.keras.layers.Dense(num_classes, activation='softmax')]) # this is the only layer that will be trained\n",
        "\n",
        "  # return model # returning an un compiled model"
      ],
      "metadata": {
        "id": "Td1Lu6YARU0c"
      },
      "execution_count": null,
      "outputs": []
    },
    {
      "cell_type": "markdown",
      "source": [
        "### creating resnet tensorflow hub feature extractor model"
      ],
      "metadata": {
        "id": "PMMJNo1zVfND"
      }
    },
    {
      "cell_type": "code",
      "source": [
        "print(tf.keras.__version__)"
      ],
      "metadata": {
        "colab": {
          "base_uri": "https://localhost:8080/"
        },
        "id": "x5RN6kESgoVV",
        "outputId": "0bf27b9e-5343-4441-cff6-7e80688e7def"
      },
      "execution_count": null,
      "outputs": [
        {
          "output_type": "stream",
          "name": "stdout",
          "text": [
            "3.8.0\n"
          ]
        }
      ]
    },
    {
      "cell_type": "code",
      "source": [
        "import tf_keras\n",
        "def create_model(model_url, num_classes):\n",
        "  feature_extractor_layer = hub.KerasLayer(model_url, trainable=False, input_shape=(224,224,3), name='feature_extraction_layer')\n",
        "\n",
        "  model = tf_keras.Sequential()\n",
        "  model.add(feature_extractor_layer)\n",
        "  model.add(tf_keras.layers.Dense(num_classes, activation=tf.keras.activations.softmax, name='output_layer'))\n",
        "\n",
        "  return model"
      ],
      "metadata": {
        "id": "5vqDehvyiGSc"
      },
      "execution_count": null,
      "outputs": []
    },
    {
      "cell_type": "code",
      "source": [
        "efficient_net_model = create_model(efficient_net_url,10)"
      ],
      "metadata": {
        "id": "-oZrxY5RiQ20"
      },
      "execution_count": null,
      "outputs": []
    },
    {
      "cell_type": "code",
      "source": [
        "efficient_net_model.compile(loss='categorical_crossentropy',\n",
        "                            optimizer='Adam',\n",
        "                            metrics=['accuracy'])"
      ],
      "metadata": {
        "id": "1qlo-nk2ifer"
      },
      "execution_count": null,
      "outputs": []
    },
    {
      "cell_type": "code",
      "source": [
        "efficient_net_model.summary()"
      ],
      "metadata": {
        "colab": {
          "base_uri": "https://localhost:8080/"
        },
        "id": "QfSjTsYHitVp",
        "outputId": "78f30003-53b1-4c98-a8d6-f2877d680df9"
      },
      "execution_count": null,
      "outputs": [
        {
          "output_type": "stream",
          "name": "stdout",
          "text": [
            "Model: \"sequential_1\"\n",
            "_________________________________________________________________\n",
            " Layer (type)                Output Shape              Param #   \n",
            "=================================================================\n",
            " feature_extraction_layer (  (None, 1280)              4049564   \n",
            " KerasLayer)                                                     \n",
            "                                                                 \n",
            " output_layer (Dense)        (None, 10)                12810     \n",
            "                                                                 \n",
            "=================================================================\n",
            "Total params: 4062374 (15.50 MB)\n",
            "Trainable params: 12810 (50.04 KB)\n",
            "Non-trainable params: 4049564 (15.45 MB)\n",
            "_________________________________________________________________\n"
          ]
        }
      ]
    },
    {
      "cell_type": "code",
      "source": [],
      "metadata": {
        "id": "7CdHz78bi8X8"
      },
      "execution_count": null,
      "outputs": []
    }
  ]
}